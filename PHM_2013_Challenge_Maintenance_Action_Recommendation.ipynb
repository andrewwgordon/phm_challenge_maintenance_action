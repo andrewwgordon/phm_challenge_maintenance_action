{
  "nbformat": 4,
  "nbformat_minor": 0,
  "metadata": {
    "colab": {
      "name": "PHM 2013 Challenge - Maintenance Action Recommendation.ipynb",
      "provenance": [],
      "authorship_tag": "ABX9TyNgv17FeWmzIc2UsVmZoCUI",
      "include_colab_link": true
    },
    "kernelspec": {
      "name": "python3",
      "display_name": "Python 3"
    }
  },
  "cells": [
    {
      "cell_type": "markdown",
      "metadata": {
        "id": "view-in-github",
        "colab_type": "text"
      },
      "source": [
        "<a href=\"https://colab.research.google.com/github/andrewwgordon/phm_challenge_maintenance_action/blob/main/PHM_2013_Challenge_Maintenance_Action_Recommendation.ipynb\" target=\"_parent\"><img src=\"https://colab.research.google.com/assets/colab-badge.svg\" alt=\"Open In Colab\"/></a>"
      ]
    },
    {
      "cell_type": "markdown",
      "metadata": {
        "id": "dR77AZLPwLPm"
      },
      "source": [
        ""
      ]
    },
    {
      "cell_type": "markdown",
      "metadata": {
        "id": "3OEm9KXmwPZf"
      },
      "source": [
        "# Introduction\n",
        "This challenge comes from the [Prognostic Health Management Society](https://www.phmsociety.org/) [2013 Data Challenge](https://www.phmsociety.org/events/conference/phm/13/challenge).\n",
        "\n",
        "The problem domain is to design an algorithm and model to recommend a maintenance action on a machine based on machine parameters and events. The nature of the machine and a description of the parameters and events has been withheld for, one assumes, IP reasons by the data suppliers. However, it is reasonable to assume the following:\n",
        "- Parameters are likely to be sensor readings of physical properties of the machine. Typical examples could be Temperature, Pressure, Acceleration, Vibration, Velocity and so on. Parameters are continous readings of real (floating point) numbers.\n",
        "- Events are codes produced by the machine [condition monitoring system](https://mechanicalenotes.com/condition-monitoring/) that detect a known type of machine event. The nature and description of these events have not been disclosed. However, a typical condition monitoring system is likely to detect events based on a threshold exceedence. For example high temperature, high frequency vibration, low pressure etc. Events are discrete and described with an alphanumeric code.\n",
        "- Parameters are captured when a particular Event occurs. Not all the possible Machine Parameters (P01 through P30) are captured for every Event type, i.e. only a subset of possible Parameters are relevant to a particular Event type.\n",
        "- Cases are a classification of the machine problem or fault and, like Events, are only described by an alphanumeric code. Cases are highly likely to be a code that represents some known maintenance issue For example a number of Parameters could measure the Pressure and Flow Rate of oil in a hydraulic mechanism in the machine. Loss of Pressure and Flow Rate could trigger an Event code. The Case would describe the maintenance issue. In this hydraulic system scenario loss of Pressure and Flow Rate could indicate a fault such as a leak.\n",
        "- Problems are a alphanumeric code that classify the solution and / or maintenance action to a Case. In the previous example of a hydraulic leak, the Problem type could be replace seal.\n",
        "\n",
        "Technical detail on the both the Machine and the Condition Monitoring System are not provided. However, the likely and inferred behaviour of the system is as follows:\n",
        "\n",
        "1. The Condition Monitoring System has 30 Parameters / sensors (P01 through P30) taking readings at some sampling rate.\n",
        "2. Algorithms within the Condition Monitoring System detect a series of Parameter thresholds / exceedances which trigger an Event code. The Parameters captured are associated with the Event.\n",
        "3. A Case is created, either by the Condition Monitoring System automatically or by an Engineer manually.\n",
        "4. The Case is reviewed and a maintenance action to fix and / or resolve the Case is identified. This is identified by the Problem type code.\n",
        "\n",
        "In Data Science terms, the challenge is to build a model from the provided dataset to recommend a maintenance action (Problem code) based on the Event code and / or associated Event Parameter values. The datasets have already been split between training and test."
      ]
    },
    {
      "cell_type": "markdown",
      "metadata": {
        "id": "rFvlF6Ke5W-C"
      },
      "source": [
        "# Data Understanding\n",
        "Lets start to explore the datasets."
      ]
    },
    {
      "cell_type": "code",
      "metadata": {
        "id": "zuibGdgYAmzF"
      },
      "source": [
        "# First import the Pandas library\n",
        "import pandas as pd"
      ],
      "execution_count": 36,
      "outputs": []
    },
    {
      "cell_type": "markdown",
      "metadata": {
        "id": "35AKADsz51nk"
      },
      "source": [
        "## Fetch and Load the (Training) Data"
      ]
    },
    {
      "cell_type": "code",
      "metadata": {
        "id": "eyX1jKJIA_VN"
      },
      "source": [
        "# Load the training data into dataframes from NASA DashLink (you will need Internet access for this)\r\n",
        "# Will need to load the test data like this later on\r\n",
        "case_to_problem_df=pd.read_csv('https://c3.nasa.gov/dashlink/static/media/dataset/Train_-_Case_to_Problem.csv')\r\n",
        "nuisance_cases_df=pd.read_csv('https://c3.nasa.gov/dashlink/static/media/dataset/Train_-_Nuisance_Cases.csv')\r\n",
        "case_to_events_and_parameters_df=pd.read_csv('https://c3.nasa.gov/dashlink/static/media/dataset/Train_-_Case_to_Events_and_Parameters.csv')"
      ],
      "execution_count": 37,
      "outputs": []
    },
    {
      "cell_type": "markdown",
      "metadata": {
        "id": "KXMh8UNU5848"
      },
      "source": [
        "## Case to Problem\n",
        "This dataset is a list of Cases (maintenance issues) and Problems (solutions to the maintenance issue).\n",
        "\n",
        "Both Case and Problem are data types of alphanumeric / text."
      ]
    },
    {
      "cell_type": "code",
      "metadata": {
        "colab": {
          "base_uri": "https://localhost:8080/",
          "height": 204
        },
        "id": "dpu0koalBOzK",
        "outputId": "853ce8e2-3d11-44a7-ee37-82c672dc54ac"
      },
      "source": [
        "# Preview the Case to Problem dataframe\n",
        "case_to_problem_df.head()"
      ],
      "execution_count": 38,
      "outputs": [
        {
          "output_type": "execute_result",
          "data": {
            "text/html": [
              "<div>\n",
              "<style scoped>\n",
              "    .dataframe tbody tr th:only-of-type {\n",
              "        vertical-align: middle;\n",
              "    }\n",
              "\n",
              "    .dataframe tbody tr th {\n",
              "        vertical-align: top;\n",
              "    }\n",
              "\n",
              "    .dataframe thead th {\n",
              "        text-align: right;\n",
              "    }\n",
              "</style>\n",
              "<table border=\"1\" class=\"dataframe\">\n",
              "  <thead>\n",
              "    <tr style=\"text-align: right;\">\n",
              "      <th></th>\n",
              "      <th>Case</th>\n",
              "      <th>Problem</th>\n",
              "    </tr>\n",
              "  </thead>\n",
              "  <tbody>\n",
              "    <tr>\n",
              "      <th>0</th>\n",
              "      <td>C265832</td>\n",
              "      <td>P7547</td>\n",
              "    </tr>\n",
              "    <tr>\n",
              "      <th>1</th>\n",
              "      <td>C892371</td>\n",
              "      <td>P7695</td>\n",
              "    </tr>\n",
              "    <tr>\n",
              "      <th>2</th>\n",
              "      <td>C978338</td>\n",
              "      <td>P7695</td>\n",
              "    </tr>\n",
              "    <tr>\n",
              "      <th>3</th>\n",
              "      <td>C430134</td>\n",
              "      <td>P2651</td>\n",
              "    </tr>\n",
              "    <tr>\n",
              "      <th>4</th>\n",
              "      <td>C515475</td>\n",
              "      <td>P2584</td>\n",
              "    </tr>\n",
              "  </tbody>\n",
              "</table>\n",
              "</div>"
            ],
            "text/plain": [
              "      Case Problem\n",
              "0  C265832   P7547\n",
              "1  C892371   P7695\n",
              "2  C978338   P7695\n",
              "3  C430134   P2651\n",
              "4  C515475   P2584"
            ]
          },
          "metadata": {
            "tags": []
          },
          "execution_count": 38
        }
      ]
    },
    {
      "cell_type": "markdown",
      "metadata": {
        "id": "lQI0c0mLA_fb"
      },
      "source": [
        "## Nuisance Cases\n",
        "This dataset is a list of Cases (maintenance issues) for which no Problem type (solution to the maintenance issue) has been identified. Therefore, these Cases are classed as nuisance cases.\n",
        "\n",
        "As per Case to Problem, Nuisance Case is a data type of alphanumeric / text."
      ]
    },
    {
      "cell_type": "code",
      "metadata": {
        "colab": {
          "base_uri": "https://localhost:8080/",
          "height": 204
        },
        "id": "3f5w-t-MBmrA",
        "outputId": "133180db-973a-4983-d18e-54b447c35d68"
      },
      "source": [
        "# preview the Nuisance dataframe\n",
        "nuisance_cases_df.head()"
      ],
      "execution_count": 39,
      "outputs": [
        {
          "output_type": "execute_result",
          "data": {
            "text/html": [
              "<div>\n",
              "<style scoped>\n",
              "    .dataframe tbody tr th:only-of-type {\n",
              "        vertical-align: middle;\n",
              "    }\n",
              "\n",
              "    .dataframe tbody tr th {\n",
              "        vertical-align: top;\n",
              "    }\n",
              "\n",
              "    .dataframe thead th {\n",
              "        text-align: right;\n",
              "    }\n",
              "</style>\n",
              "<table border=\"1\" class=\"dataframe\">\n",
              "  <thead>\n",
              "    <tr style=\"text-align: right;\">\n",
              "      <th></th>\n",
              "      <th>Case</th>\n",
              "    </tr>\n",
              "  </thead>\n",
              "  <tbody>\n",
              "    <tr>\n",
              "      <th>0</th>\n",
              "      <td>C776328</td>\n",
              "    </tr>\n",
              "    <tr>\n",
              "      <th>1</th>\n",
              "      <td>C072154</td>\n",
              "    </tr>\n",
              "    <tr>\n",
              "      <th>2</th>\n",
              "      <td>C092308</td>\n",
              "    </tr>\n",
              "    <tr>\n",
              "      <th>3</th>\n",
              "      <td>C747704</td>\n",
              "    </tr>\n",
              "    <tr>\n",
              "      <th>4</th>\n",
              "      <td>C061471</td>\n",
              "    </tr>\n",
              "  </tbody>\n",
              "</table>\n",
              "</div>"
            ],
            "text/plain": [
              "      Case\n",
              "0  C776328\n",
              "1  C072154\n",
              "2  C092308\n",
              "3  C747704\n",
              "4  C061471"
            ]
          },
          "metadata": {
            "tags": []
          },
          "execution_count": 39
        }
      ]
    },
    {
      "cell_type": "markdown",
      "metadata": {
        "id": "pnl9-0jyCNs-"
      },
      "source": [
        "## Case to Events and Parameters\n",
        "This dataset is a list of Cases with associated Events and Parameters.\n",
        "\n",
        "As previously described. Case is a data type of alphanumeric / text as is Event. Parameters are a data type of real / floating point numbers."
      ]
    },
    {
      "cell_type": "code",
      "metadata": {
        "colab": {
          "base_uri": "https://localhost:8080/",
          "height": 224
        },
        "id": "QLxbhPh0CBTQ",
        "outputId": "e4072502-b326-4ea7-c224-333a7cbf72f7"
      },
      "source": [
        "# Preview the Case, Event and Parameter dataframe\n",
        "case_to_events_and_parameters_df.tail()"
      ],
      "execution_count": 46,
      "outputs": [
        {
          "output_type": "execute_result",
          "data": {
            "text/html": [
              "<div>\n",
              "<style scoped>\n",
              "    .dataframe tbody tr th:only-of-type {\n",
              "        vertical-align: middle;\n",
              "    }\n",
              "\n",
              "    .dataframe tbody tr th {\n",
              "        vertical-align: top;\n",
              "    }\n",
              "\n",
              "    .dataframe thead th {\n",
              "        text-align: right;\n",
              "    }\n",
              "</style>\n",
              "<table border=\"1\" class=\"dataframe\">\n",
              "  <thead>\n",
              "    <tr style=\"text-align: right;\">\n",
              "      <th></th>\n",
              "      <th>Case</th>\n",
              "      <th>Event</th>\n",
              "      <th>P01</th>\n",
              "      <th>P02</th>\n",
              "      <th>P03</th>\n",
              "      <th>P04</th>\n",
              "      <th>P05</th>\n",
              "      <th>P06</th>\n",
              "      <th>P07</th>\n",
              "      <th>P08</th>\n",
              "      <th>P09</th>\n",
              "      <th>P10</th>\n",
              "      <th>P11</th>\n",
              "      <th>P12</th>\n",
              "      <th>P13</th>\n",
              "      <th>P14</th>\n",
              "      <th>P15</th>\n",
              "      <th>P16</th>\n",
              "      <th>P17</th>\n",
              "      <th>P18</th>\n",
              "      <th>P19</th>\n",
              "      <th>P20</th>\n",
              "      <th>P21</th>\n",
              "      <th>P22</th>\n",
              "      <th>P23</th>\n",
              "      <th>P24</th>\n",
              "      <th>P25</th>\n",
              "      <th>P26</th>\n",
              "      <th>P27</th>\n",
              "      <th>P28</th>\n",
              "      <th>P29</th>\n",
              "      <th>P30</th>\n",
              "    </tr>\n",
              "  </thead>\n",
              "  <tbody>\n",
              "    <tr>\n",
              "      <th>1316648</th>\n",
              "      <td>C999999</td>\n",
              "      <td>E78109</td>\n",
              "      <td>58.0</td>\n",
              "      <td>10.0</td>\n",
              "      <td>81.0</td>\n",
              "      <td>-0.341297</td>\n",
              "      <td>-0.000558</td>\n",
              "      <td>-2.256133</td>\n",
              "      <td>-1.457911</td>\n",
              "      <td>-1.262413</td>\n",
              "      <td>-0.761700</td>\n",
              "      <td>-0.002495</td>\n",
              "      <td>-0.258493</td>\n",
              "      <td>-2.742351</td>\n",
              "      <td>-2.155919</td>\n",
              "      <td>0.002319</td>\n",
              "      <td>0.002319</td>\n",
              "      <td>0.129791</td>\n",
              "      <td>-0.001491</td>\n",
              "      <td>-0.031394</td>\n",
              "      <td>0.000739</td>\n",
              "      <td>-0.062314</td>\n",
              "      <td>-1.747558</td>\n",
              "      <td>0.032937</td>\n",
              "      <td>-2.295351</td>\n",
              "      <td>0.376941</td>\n",
              "      <td>-1.449868</td>\n",
              "      <td>-1.423754</td>\n",
              "      <td>-1.497879</td>\n",
              "      <td>-0.621795</td>\n",
              "      <td>6.0</td>\n",
              "      <td>-0.666402</td>\n",
              "    </tr>\n",
              "    <tr>\n",
              "      <th>1316649</th>\n",
              "      <td>C999999</td>\n",
              "      <td>E62937</td>\n",
              "      <td>58.0</td>\n",
              "      <td>10.0</td>\n",
              "      <td>81.0</td>\n",
              "      <td>-0.341297</td>\n",
              "      <td>-0.000558</td>\n",
              "      <td>-2.256133</td>\n",
              "      <td>-1.457911</td>\n",
              "      <td>-1.262413</td>\n",
              "      <td>-0.761700</td>\n",
              "      <td>-0.002495</td>\n",
              "      <td>-0.258493</td>\n",
              "      <td>-2.742351</td>\n",
              "      <td>-2.155919</td>\n",
              "      <td>0.002319</td>\n",
              "      <td>0.002319</td>\n",
              "      <td>0.129791</td>\n",
              "      <td>-0.001491</td>\n",
              "      <td>-0.031394</td>\n",
              "      <td>0.000739</td>\n",
              "      <td>-0.062314</td>\n",
              "      <td>-1.747558</td>\n",
              "      <td>0.032937</td>\n",
              "      <td>-2.295351</td>\n",
              "      <td>0.376941</td>\n",
              "      <td>-1.449868</td>\n",
              "      <td>-1.423754</td>\n",
              "      <td>-1.497879</td>\n",
              "      <td>-0.621795</td>\n",
              "      <td>6.0</td>\n",
              "      <td>-0.666402</td>\n",
              "    </tr>\n",
              "    <tr>\n",
              "      <th>1316650</th>\n",
              "      <td>C999999</td>\n",
              "      <td>E35590</td>\n",
              "      <td>58.0</td>\n",
              "      <td>10.0</td>\n",
              "      <td>81.0</td>\n",
              "      <td>-0.335450</td>\n",
              "      <td>-0.000558</td>\n",
              "      <td>0.651388</td>\n",
              "      <td>0.801920</td>\n",
              "      <td>1.072141</td>\n",
              "      <td>-0.758992</td>\n",
              "      <td>-0.002037</td>\n",
              "      <td>-0.013535</td>\n",
              "      <td>-0.091080</td>\n",
              "      <td>0.808070</td>\n",
              "      <td>0.002319</td>\n",
              "      <td>0.002319</td>\n",
              "      <td>0.134986</td>\n",
              "      <td>-0.001470</td>\n",
              "      <td>0.018232</td>\n",
              "      <td>-0.003572</td>\n",
              "      <td>0.674294</td>\n",
              "      <td>0.767791</td>\n",
              "      <td>0.027471</td>\n",
              "      <td>0.608398</td>\n",
              "      <td>-0.257676</td>\n",
              "      <td>0.777612</td>\n",
              "      <td>0.750647</td>\n",
              "      <td>0.415713</td>\n",
              "      <td>-1.125223</td>\n",
              "      <td>29.0</td>\n",
              "      <td>-0.666402</td>\n",
              "    </tr>\n",
              "    <tr>\n",
              "      <th>1316651</th>\n",
              "      <td>C999999</td>\n",
              "      <td>E06532</td>\n",
              "      <td>58.0</td>\n",
              "      <td>10.0</td>\n",
              "      <td>90.0</td>\n",
              "      <td>-0.341382</td>\n",
              "      <td>-0.000558</td>\n",
              "      <td>0.403277</td>\n",
              "      <td>-0.414899</td>\n",
              "      <td>0.009966</td>\n",
              "      <td>-0.761700</td>\n",
              "      <td>-0.002171</td>\n",
              "      <td>-0.073296</td>\n",
              "      <td>-0.407976</td>\n",
              "      <td>0.684211</td>\n",
              "      <td>0.002319</td>\n",
              "      <td>0.002319</td>\n",
              "      <td>0.115333</td>\n",
              "      <td>-0.001470</td>\n",
              "      <td>-0.002017</td>\n",
              "      <td>-0.000670</td>\n",
              "      <td>-0.076128</td>\n",
              "      <td>0.236709</td>\n",
              "      <td>0.027395</td>\n",
              "      <td>0.346585</td>\n",
              "      <td>-0.071925</td>\n",
              "      <td>-0.029332</td>\n",
              "      <td>-0.037068</td>\n",
              "      <td>0.569249</td>\n",
              "      <td>-0.663182</td>\n",
              "      <td>29.0</td>\n",
              "      <td>-0.666402</td>\n",
              "    </tr>\n",
              "    <tr>\n",
              "      <th>1316652</th>\n",
              "      <td>C999999</td>\n",
              "      <td>E51100</td>\n",
              "      <td>58.0</td>\n",
              "      <td>10.0</td>\n",
              "      <td>90.0</td>\n",
              "      <td>-0.341382</td>\n",
              "      <td>-0.000558</td>\n",
              "      <td>0.403277</td>\n",
              "      <td>-0.414899</td>\n",
              "      <td>0.009966</td>\n",
              "      <td>-0.761700</td>\n",
              "      <td>-0.002171</td>\n",
              "      <td>-0.073296</td>\n",
              "      <td>-0.407976</td>\n",
              "      <td>0.684211</td>\n",
              "      <td>0.002319</td>\n",
              "      <td>0.002319</td>\n",
              "      <td>0.115333</td>\n",
              "      <td>-0.001470</td>\n",
              "      <td>-0.002017</td>\n",
              "      <td>-0.000670</td>\n",
              "      <td>-0.076128</td>\n",
              "      <td>0.236709</td>\n",
              "      <td>0.027395</td>\n",
              "      <td>0.346585</td>\n",
              "      <td>-0.071925</td>\n",
              "      <td>-0.029332</td>\n",
              "      <td>-0.037068</td>\n",
              "      <td>0.569249</td>\n",
              "      <td>-0.663182</td>\n",
              "      <td>29.0</td>\n",
              "      <td>-0.666402</td>\n",
              "    </tr>\n",
              "  </tbody>\n",
              "</table>\n",
              "</div>"
            ],
            "text/plain": [
              "            Case   Event   P01   P02  ...       P27       P28   P29       P30\n",
              "1316648  C999999  E78109  58.0  10.0  ... -1.497879 -0.621795   6.0 -0.666402\n",
              "1316649  C999999  E62937  58.0  10.0  ... -1.497879 -0.621795   6.0 -0.666402\n",
              "1316650  C999999  E35590  58.0  10.0  ...  0.415713 -1.125223  29.0 -0.666402\n",
              "1316651  C999999  E06532  58.0  10.0  ...  0.569249 -0.663182  29.0 -0.666402\n",
              "1316652  C999999  E51100  58.0  10.0  ...  0.569249 -0.663182  29.0 -0.666402\n",
              "\n",
              "[5 rows x 32 columns]"
            ]
          },
          "metadata": {
            "tags": []
          },
          "execution_count": 46
        }
      ]
    },
    {
      "cell_type": "markdown",
      "metadata": {
        "id": "aKvY1Am3CxWe"
      },
      "source": [
        "# Exploratory Data Analysis (EDA)\n",
        "In this section we will start to explore and understand the datasets."
      ]
    },
    {
      "cell_type": "markdown",
      "metadata": {
        "id": "mqATYzSoDKX4"
      },
      "source": [
        "## Problem Distribution\n",
        "First lets plot a simple distribution of Problems (machine maintenance actions). We can clearly see Problem type P2584 occurs considerably more frequently than the other types."
      ]
    },
    {
      "cell_type": "code",
      "metadata": {
        "colab": {
          "base_uri": "https://localhost:8080/",
          "height": 537
        },
        "id": "rhZnzIOBF_oO",
        "outputId": "751326f4-69be-4986-d246-463501d73c23"
      },
      "source": [
        "# Lets take a look at the distribution of problems\n",
        "case_to_problem_df.groupby(['Problem']).size().plot.bar(x='Problem',figsize=(16,8))"
      ],
      "execution_count": 48,
      "outputs": [
        {
          "output_type": "execute_result",
          "data": {
            "text/plain": [
              "<matplotlib.axes._subplots.AxesSubplot at 0x7f78dd548be0>"
            ]
          },
          "metadata": {
            "tags": []
          },
          "execution_count": 48
        },
        {
          "output_type": "display_data",
          "data": {
            "image/png": "[encoded data removed]",
            "text/plain": [
              "<Figure size 1152x576 with 1 Axes>"
            ]
          },
          "metadata": {
            "tags": [],
            "needs_background": "light"
          }
        }
      ]
    },
    {
      "cell_type": "markdown",
      "metadata": {
        "id": "M4OBtLNcFy2E"
      },
      "source": [
        "## Event Distribution\n",
        "Lets find the top 20 Event types. Again, there's a real 'skew' in the distribution of Event types with E35590 occuring considerably more frequently than the other types."
      ]
    },
    {
      "cell_type": "code",
      "metadata": {
        "colab": {
          "base_uri": "https://localhost:8080/"
        },
        "id": "-2leYOl5FrOv",
        "outputId": "01e70b66-615e-44db-8506-32908b5994a7"
      },
      "source": [
        "event_count_df=case_to_events_and_parameters_df.groupby(['Event']).size()\n",
        "event_count_df.sort_values(inplace=True,ascending=False)\n",
        "event_count_df.head(20)"
      ],
      "execution_count": 63,
      "outputs": [
        {
          "output_type": "execute_result",
          "data": {
            "text/plain": [
              "Event\n",
              "E35590    531718\n",
              "E62937     36313\n",
              "E82587     30696\n",
              "E18654     29931\n",
              "E43392     28074\n",
              "E92541     26933\n",
              "E78109     26748\n",
              "E86047     25421\n",
              "E76035     23434\n",
              "E74141     22182\n",
              "E42153     21934\n",
              "E19863     19469\n",
              "E51973     19170\n",
              "E48445     17689\n",
              "E14740     17560\n",
              "E01135     12420\n",
              "E27635     10028\n",
              "E28452      9781\n",
              "E77306      9549\n",
              "E21806      9498\n",
              "dtype: int64"
            ]
          },
          "metadata": {
            "tags": []
          },
          "execution_count": 63
        }
      ]
    },
    {
      "cell_type": "code",
      "metadata": {
        "colab": {
          "base_uri": "https://localhost:8080/",
          "height": 544
        },
        "id": "xB1qK0TDGHuq",
        "outputId": "51dbac41-b581-4e36-b0ac-c4507b790db6"
      },
      "source": [
        "event_count_df.head(20).plot.bar(x='Event',figsize=(16,8))"
      ],
      "execution_count": 64,
      "outputs": [
        {
          "output_type": "execute_result",
          "data": {
            "text/plain": [
              "<matplotlib.axes._subplots.AxesSubplot at 0x7f78db5f76d8>"
            ]
          },
          "metadata": {
            "tags": []
          },
          "execution_count": 64
        },
        {
          "output_type": "display_data",
          "data": {
            "image/png": "[encoded data removed]",
            "text/plain": [
              "<Figure size 1152x576 with 1 Axes>"
            ]
          },
          "metadata": {
            "tags": [],
            "needs_background": "light"
          }
        }
      ]
    },
    {
      "cell_type": "markdown",
      "metadata": {
        "id": "jbXjAAgAHVU0"
      },
      "source": [
        "## More Exploratory Data Analysis\n",
        "More data exploration and analysis goes here."
      ]
    },
    {
      "cell_type": "markdown",
      "metadata": {
        "id": "9mfREclZKv_4"
      },
      "source": [
        "# Data Engineering\n",
        "Data 'wrangling', shaping and engineering does here. Generally to enable a 'right sized' dataset to supply a machine learning pipeline."
      ]
    },
    {
      "cell_type": "markdown",
      "metadata": {
        "id": "mkwFKw2tHej8"
      },
      "source": [
        "# Modelling\n",
        "Data Science magic and general 'wizardy' happens here."
      ]
    },
    {
      "cell_type": "markdown",
      "metadata": {
        "id": "8rJa-7aeHjIa"
      },
      "source": [
        "# Model Evaluation & Scoring\n",
        "Test, validate and score models against the test dataset here (hopefully the scores are as close to 100% as possible)."
      ]
    },
    {
      "cell_type": "markdown",
      "metadata": {
        "id": "H1Yu9qjvHqzT"
      },
      "source": [
        "# Results, Discussion and Conclusion\n",
        "What have we learnt."
      ]
    }
  ]
}