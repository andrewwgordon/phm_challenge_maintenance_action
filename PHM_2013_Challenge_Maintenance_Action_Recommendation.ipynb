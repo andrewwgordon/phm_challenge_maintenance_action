{
  "nbformat": 4,
  "nbformat_minor": 0,
  "metadata": {
    "colab": {
      "name": "PHM 2013 Challenge - Maintenance Action Recommendation.ipynb",
      "provenance": [],
      "authorship_tag": "ABX9TyNr9ikZ3ycL1N7F8vaFvbV4",
      "include_colab_link": true
    },
    "kernelspec": {
      "name": "python3",
      "display_name": "Python 3"
    }
  },
  "cells": [
    {
      "cell_type": "markdown",
      "metadata": {
        "id": "view-in-github",
        "colab_type": "text"
      },
      "source": [
        "<a href=\"https://colab.research.google.com/github/andrewwgordon/phm_challenge_maintenance_action/blob/main/PHM_2013_Challenge_Maintenance_Action_Recommendation.ipynb\" target=\"_parent\"><img src=\"https://colab.research.google.com/assets/colab-badge.svg\" alt=\"Open In Colab\"/></a>"
      ]
    },
    {
      "cell_type": "code",
      "metadata": {
        "id": "zuibGdgYAmzF"
      },
      "source": [
        "import pandas as pd"
      ],
      "execution_count": 1,
      "outputs": []
    },
    {
      "cell_type": "code",
      "metadata": {
        "id": "eyX1jKJIA_VN"
      },
      "source": [
        "case_to_problem_df=pd.read_csv('https://c3.nasa.gov/dashlink/static/media/dataset/Train_-_Case_to_Problem.csv')\r\n",
        "nuisance_cases_df=pd.read_csv('https://c3.nasa.gov/dashlink/static/media/dataset/Train_-_Nuisance_Cases.csv')\r\n",
        "case_to_events_and_parameters_df=pd.read_csv('https://c3.nasa.gov/dashlink/static/media/dataset/Train_-_Case_to_Events_and_Parameters.csv')"
      ],
      "execution_count": 7,
      "outputs": []
    },
    {
      "cell_type": "code",
      "metadata": {
        "colab": {
          "base_uri": "https://localhost:8080/",
          "height": 204
        },
        "id": "dpu0koalBOzK",
        "outputId": "3b63c43d-c558-4c55-8b97-954389013f8f"
      },
      "source": [
        "case_to_problem_df.head()"
      ],
      "execution_count": 3,
      "outputs": [
        {
          "output_type": "execute_result",
          "data": {
            "text/html": [
              "<div>\n",
              "<style scoped>\n",
              "    .dataframe tbody tr th:only-of-type {\n",
              "        vertical-align: middle;\n",
              "    }\n",
              "\n",
              "    .dataframe tbody tr th {\n",
              "        vertical-align: top;\n",
              "    }\n",
              "\n",
              "    .dataframe thead th {\n",
              "        text-align: right;\n",
              "    }\n",
              "</style>\n",
              "<table border=\"1\" class=\"dataframe\">\n",
              "  <thead>\n",
              "    <tr style=\"text-align: right;\">\n",
              "      <th></th>\n",
              "      <th>Case</th>\n",
              "      <th>Problem</th>\n",
              "    </tr>\n",
              "  </thead>\n",
              "  <tbody>\n",
              "    <tr>\n",
              "      <th>0</th>\n",
              "      <td>C265832</td>\n",
              "      <td>P7547</td>\n",
              "    </tr>\n",
              "    <tr>\n",
              "      <th>1</th>\n",
              "      <td>C892371</td>\n",
              "      <td>P7695</td>\n",
              "    </tr>\n",
              "    <tr>\n",
              "      <th>2</th>\n",
              "      <td>C978338</td>\n",
              "      <td>P7695</td>\n",
              "    </tr>\n",
              "    <tr>\n",
              "      <th>3</th>\n",
              "      <td>C430134</td>\n",
              "      <td>P2651</td>\n",
              "    </tr>\n",
              "    <tr>\n",
              "      <th>4</th>\n",
              "      <td>C515475</td>\n",
              "      <td>P2584</td>\n",
              "    </tr>\n",
              "  </tbody>\n",
              "</table>\n",
              "</div>"
            ],
            "text/plain": [
              "      Case Problem\n",
              "0  C265832   P7547\n",
              "1  C892371   P7695\n",
              "2  C978338   P7695\n",
              "3  C430134   P2651\n",
              "4  C515475   P2584"
            ]
          },
          "metadata": {
            "tags": []
          },
          "execution_count": 3
        }
      ]
    },
    {
      "cell_type": "code",
      "metadata": {
        "colab": {
          "base_uri": "https://localhost:8080/",
          "height": 204
        },
        "id": "3f5w-t-MBmrA",
        "outputId": "a291debb-b8d8-4568-fd40-9a80dcd01df2"
      },
      "source": [
        "nuisance_cases_df.head()"
      ],
      "execution_count": 6,
      "outputs": [
        {
          "output_type": "execute_result",
          "data": {
            "text/html": [
              "<div>\n",
              "<style scoped>\n",
              "    .dataframe tbody tr th:only-of-type {\n",
              "        vertical-align: middle;\n",
              "    }\n",
              "\n",
              "    .dataframe tbody tr th {\n",
              "        vertical-align: top;\n",
              "    }\n",
              "\n",
              "    .dataframe thead th {\n",
              "        text-align: right;\n",
              "    }\n",
              "</style>\n",
              "<table border=\"1\" class=\"dataframe\">\n",
              "  <thead>\n",
              "    <tr style=\"text-align: right;\">\n",
              "      <th></th>\n",
              "      <th>Case</th>\n",
              "    </tr>\n",
              "  </thead>\n",
              "  <tbody>\n",
              "    <tr>\n",
              "      <th>0</th>\n",
              "      <td>C776328</td>\n",
              "    </tr>\n",
              "    <tr>\n",
              "      <th>1</th>\n",
              "      <td>C072154</td>\n",
              "    </tr>\n",
              "    <tr>\n",
              "      <th>2</th>\n",
              "      <td>C092308</td>\n",
              "    </tr>\n",
              "    <tr>\n",
              "      <th>3</th>\n",
              "      <td>C747704</td>\n",
              "    </tr>\n",
              "    <tr>\n",
              "      <th>4</th>\n",
              "      <td>C061471</td>\n",
              "    </tr>\n",
              "  </tbody>\n",
              "</table>\n",
              "</div>"
            ],
            "text/plain": [
              "      Case\n",
              "0  C776328\n",
              "1  C072154\n",
              "2  C092308\n",
              "3  C747704\n",
              "4  C061471"
            ]
          },
          "metadata": {
            "tags": []
          },
          "execution_count": 6
        }
      ]
    },
    {
      "cell_type": "code",
      "metadata": {
        "colab": {
          "base_uri": "https://localhost:8080/",
          "height": 224
        },
        "id": "QLxbhPh0CBTQ",
        "outputId": "60b7207a-19f1-4a9e-db53-9d97161ef376"
      },
      "source": [
        "case_to_events_and_parameters_df.tail()"
      ],
      "execution_count": 9,
      "outputs": [
        {
          "output_type": "execute_result",
          "data": {
            "text/html": [
              "<div>\n",
              "<style scoped>\n",
              "    .dataframe tbody tr th:only-of-type {\n",
              "        vertical-align: middle;\n",
              "    }\n",
              "\n",
              "    .dataframe tbody tr th {\n",
              "        vertical-align: top;\n",
              "    }\n",
              "\n",
              "    .dataframe thead th {\n",
              "        text-align: right;\n",
              "    }\n",
              "</style>\n",
              "<table border=\"1\" class=\"dataframe\">\n",
              "  <thead>\n",
              "    <tr style=\"text-align: right;\">\n",
              "      <th></th>\n",
              "      <th>Case</th>\n",
              "      <th>Event</th>\n",
              "      <th>P01</th>\n",
              "      <th>P02</th>\n",
              "      <th>P03</th>\n",
              "      <th>P04</th>\n",
              "      <th>P05</th>\n",
              "      <th>P06</th>\n",
              "      <th>P07</th>\n",
              "      <th>P08</th>\n",
              "      <th>P09</th>\n",
              "      <th>P10</th>\n",
              "      <th>P11</th>\n",
              "      <th>P12</th>\n",
              "      <th>P13</th>\n",
              "      <th>P14</th>\n",
              "      <th>P15</th>\n",
              "      <th>P16</th>\n",
              "      <th>P17</th>\n",
              "      <th>P18</th>\n",
              "      <th>P19</th>\n",
              "      <th>P20</th>\n",
              "      <th>P21</th>\n",
              "      <th>P22</th>\n",
              "      <th>P23</th>\n",
              "      <th>P24</th>\n",
              "      <th>P25</th>\n",
              "      <th>P26</th>\n",
              "      <th>P27</th>\n",
              "      <th>P28</th>\n",
              "      <th>P29</th>\n",
              "      <th>P30</th>\n",
              "    </tr>\n",
              "  </thead>\n",
              "  <tbody>\n",
              "    <tr>\n",
              "      <th>1316648</th>\n",
              "      <td>C999999</td>\n",
              "      <td>E78109</td>\n",
              "      <td>58.0</td>\n",
              "      <td>10.0</td>\n",
              "      <td>81.0</td>\n",
              "      <td>-0.341297</td>\n",
              "      <td>-0.000558</td>\n",
              "      <td>-2.256133</td>\n",
              "      <td>-1.457911</td>\n",
              "      <td>-1.262413</td>\n",
              "      <td>-0.761700</td>\n",
              "      <td>-0.002495</td>\n",
              "      <td>-0.258493</td>\n",
              "      <td>-2.742351</td>\n",
              "      <td>-2.155919</td>\n",
              "      <td>0.002319</td>\n",
              "      <td>0.002319</td>\n",
              "      <td>0.129791</td>\n",
              "      <td>-0.001491</td>\n",
              "      <td>-0.031394</td>\n",
              "      <td>0.000739</td>\n",
              "      <td>-0.062314</td>\n",
              "      <td>-1.747558</td>\n",
              "      <td>0.032937</td>\n",
              "      <td>-2.295351</td>\n",
              "      <td>0.376941</td>\n",
              "      <td>-1.449868</td>\n",
              "      <td>-1.423754</td>\n",
              "      <td>-1.497879</td>\n",
              "      <td>-0.621795</td>\n",
              "      <td>6.0</td>\n",
              "      <td>-0.666402</td>\n",
              "    </tr>\n",
              "    <tr>\n",
              "      <th>1316649</th>\n",
              "      <td>C999999</td>\n",
              "      <td>E62937</td>\n",
              "      <td>58.0</td>\n",
              "      <td>10.0</td>\n",
              "      <td>81.0</td>\n",
              "      <td>-0.341297</td>\n",
              "      <td>-0.000558</td>\n",
              "      <td>-2.256133</td>\n",
              "      <td>-1.457911</td>\n",
              "      <td>-1.262413</td>\n",
              "      <td>-0.761700</td>\n",
              "      <td>-0.002495</td>\n",
              "      <td>-0.258493</td>\n",
              "      <td>-2.742351</td>\n",
              "      <td>-2.155919</td>\n",
              "      <td>0.002319</td>\n",
              "      <td>0.002319</td>\n",
              "      <td>0.129791</td>\n",
              "      <td>-0.001491</td>\n",
              "      <td>-0.031394</td>\n",
              "      <td>0.000739</td>\n",
              "      <td>-0.062314</td>\n",
              "      <td>-1.747558</td>\n",
              "      <td>0.032937</td>\n",
              "      <td>-2.295351</td>\n",
              "      <td>0.376941</td>\n",
              "      <td>-1.449868</td>\n",
              "      <td>-1.423754</td>\n",
              "      <td>-1.497879</td>\n",
              "      <td>-0.621795</td>\n",
              "      <td>6.0</td>\n",
              "      <td>-0.666402</td>\n",
              "    </tr>\n",
              "    <tr>\n",
              "      <th>1316650</th>\n",
              "      <td>C999999</td>\n",
              "      <td>E35590</td>\n",
              "      <td>58.0</td>\n",
              "      <td>10.0</td>\n",
              "      <td>81.0</td>\n",
              "      <td>-0.335450</td>\n",
              "      <td>-0.000558</td>\n",
              "      <td>0.651388</td>\n",
              "      <td>0.801920</td>\n",
              "      <td>1.072141</td>\n",
              "      <td>-0.758992</td>\n",
              "      <td>-0.002037</td>\n",
              "      <td>-0.013535</td>\n",
              "      <td>-0.091080</td>\n",
              "      <td>0.808070</td>\n",
              "      <td>0.002319</td>\n",
              "      <td>0.002319</td>\n",
              "      <td>0.134986</td>\n",
              "      <td>-0.001470</td>\n",
              "      <td>0.018232</td>\n",
              "      <td>-0.003572</td>\n",
              "      <td>0.674294</td>\n",
              "      <td>0.767791</td>\n",
              "      <td>0.027471</td>\n",
              "      <td>0.608398</td>\n",
              "      <td>-0.257676</td>\n",
              "      <td>0.777612</td>\n",
              "      <td>0.750647</td>\n",
              "      <td>0.415713</td>\n",
              "      <td>-1.125223</td>\n",
              "      <td>29.0</td>\n",
              "      <td>-0.666402</td>\n",
              "    </tr>\n",
              "    <tr>\n",
              "      <th>1316651</th>\n",
              "      <td>C999999</td>\n",
              "      <td>E06532</td>\n",
              "      <td>58.0</td>\n",
              "      <td>10.0</td>\n",
              "      <td>90.0</td>\n",
              "      <td>-0.341382</td>\n",
              "      <td>-0.000558</td>\n",
              "      <td>0.403277</td>\n",
              "      <td>-0.414899</td>\n",
              "      <td>0.009966</td>\n",
              "      <td>-0.761700</td>\n",
              "      <td>-0.002171</td>\n",
              "      <td>-0.073296</td>\n",
              "      <td>-0.407976</td>\n",
              "      <td>0.684211</td>\n",
              "      <td>0.002319</td>\n",
              "      <td>0.002319</td>\n",
              "      <td>0.115333</td>\n",
              "      <td>-0.001470</td>\n",
              "      <td>-0.002017</td>\n",
              "      <td>-0.000670</td>\n",
              "      <td>-0.076128</td>\n",
              "      <td>0.236709</td>\n",
              "      <td>0.027395</td>\n",
              "      <td>0.346585</td>\n",
              "      <td>-0.071925</td>\n",
              "      <td>-0.029332</td>\n",
              "      <td>-0.037068</td>\n",
              "      <td>0.569249</td>\n",
              "      <td>-0.663182</td>\n",
              "      <td>29.0</td>\n",
              "      <td>-0.666402</td>\n",
              "    </tr>\n",
              "    <tr>\n",
              "      <th>1316652</th>\n",
              "      <td>C999999</td>\n",
              "      <td>E51100</td>\n",
              "      <td>58.0</td>\n",
              "      <td>10.0</td>\n",
              "      <td>90.0</td>\n",
              "      <td>-0.341382</td>\n",
              "      <td>-0.000558</td>\n",
              "      <td>0.403277</td>\n",
              "      <td>-0.414899</td>\n",
              "      <td>0.009966</td>\n",
              "      <td>-0.761700</td>\n",
              "      <td>-0.002171</td>\n",
              "      <td>-0.073296</td>\n",
              "      <td>-0.407976</td>\n",
              "      <td>0.684211</td>\n",
              "      <td>0.002319</td>\n",
              "      <td>0.002319</td>\n",
              "      <td>0.115333</td>\n",
              "      <td>-0.001470</td>\n",
              "      <td>-0.002017</td>\n",
              "      <td>-0.000670</td>\n",
              "      <td>-0.076128</td>\n",
              "      <td>0.236709</td>\n",
              "      <td>0.027395</td>\n",
              "      <td>0.346585</td>\n",
              "      <td>-0.071925</td>\n",
              "      <td>-0.029332</td>\n",
              "      <td>-0.037068</td>\n",
              "      <td>0.569249</td>\n",
              "      <td>-0.663182</td>\n",
              "      <td>29.0</td>\n",
              "      <td>-0.666402</td>\n",
              "    </tr>\n",
              "  </tbody>\n",
              "</table>\n",
              "</div>"
            ],
            "text/plain": [
              "            Case   Event   P01   P02  ...       P27       P28   P29       P30\n",
              "1316648  C999999  E78109  58.0  10.0  ... -1.497879 -0.621795   6.0 -0.666402\n",
              "1316649  C999999  E62937  58.0  10.0  ... -1.497879 -0.621795   6.0 -0.666402\n",
              "1316650  C999999  E35590  58.0  10.0  ...  0.415713 -1.125223  29.0 -0.666402\n",
              "1316651  C999999  E06532  58.0  10.0  ...  0.569249 -0.663182  29.0 -0.666402\n",
              "1316652  C999999  E51100  58.0  10.0  ...  0.569249 -0.663182  29.0 -0.666402\n",
              "\n",
              "[5 rows x 32 columns]"
            ]
          },
          "metadata": {
            "tags": []
          },
          "execution_count": 9
        }
      ]
    },
    {
      "cell_type": "code",
      "metadata": {
        "colab": {
          "base_uri": "https://localhost:8080/"
        },
        "id": "rhZnzIOBF_oO",
        "outputId": "c6a5e08f-4117-403d-e738-b2d961a7ea01"
      },
      "source": [
        "case_to_problem_df.groupby('Problem')['Problem'].count()"
      ],
      "execution_count": 20,
      "outputs": [
        {
          "output_type": "execute_result",
          "data": {
            "text/plain": [
              "Problem\n",
              "P0159    19\n",
              "P0898     4\n",
              "P1737     2\n",
              "P2584    53\n",
              "P2651    13\n",
              "P3600    17\n",
              "P6559     3\n",
              "P7547     6\n",
              "P7695    17\n",
              "P7940     1\n",
              "P9766    14\n",
              "P9965     2\n",
              "P9975    13\n",
              "Name: Problem, dtype: int64"
            ]
          },
          "metadata": {
            "tags": []
          },
          "execution_count": 20
        }
      ]
    },
    {
      "cell_type": "code",
      "metadata": {
        "colab": {
          "base_uri": "https://localhost:8080/"
        },
        "id": "y5-2d3XaEUay",
        "outputId": "532813e4-410f-49e4-a76f-085de718ea50"
      },
      "source": [
        "case_to_events_and_parameters_df.groupby('Case')['Case'].count()"
      ],
      "execution_count": 16,
      "outputs": [
        {
          "output_type": "execute_result",
          "data": {
            "text/plain": [
              "Case\n",
              "C000167     47\n",
              "C000192     27\n",
              "C000496     10\n",
              "C000553     51\n",
              "C000607     27\n",
              "          ... \n",
              "C999362     43\n",
              "C999426     24\n",
              "C999594     21\n",
              "C999892     21\n",
              "C999999    211\n",
              "Name: Case, Length: 10655, dtype: int64"
            ]
          },
          "metadata": {
            "tags": []
          },
          "execution_count": 16
        }
      ]
    },
    {
      "cell_type": "code",
      "metadata": {
        "colab": {
          "base_uri": "https://localhost:8080/"
        },
        "id": "-2leYOl5FrOv",
        "outputId": "b1d689c9-3e7a-4bdf-8c7c-54c851b45c68"
      },
      "source": [
        "case_to_events_and_parameters_df.groupby('Event')['Event'].count()"
      ],
      "execution_count": 18,
      "outputs": [
        {
          "output_type": "execute_result",
          "data": {
            "text/plain": [
              "Event\n",
              "E00120      1\n",
              "E00129     36\n",
              "E00250    200\n",
              "E00321    194\n",
              "E00370      2\n",
              "         ... \n",
              "E99393     19\n",
              "E99422      2\n",
              "E99489    142\n",
              "E99733    302\n",
              "E99873      3\n",
              "Name: Event, Length: 1247, dtype: int64"
            ]
          },
          "metadata": {
            "tags": []
          },
          "execution_count": 18
        }
      ]
    }
  ]
}